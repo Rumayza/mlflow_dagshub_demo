{
 "cells": [
  {
   "cell_type": "markdown",
   "id": "1bae21c5",
   "metadata": {},
   "source": [
    "# 0. Configuration"
   ]
  },
  {
   "cell_type": "code",
   "execution_count": 2,
   "id": "7bebb700",
   "metadata": {},
   "outputs": [],
   "source": [
    "RANDOM_STATE = 42\n",
    "TEST_SIZE = 0.3"
   ]
  },
  {
   "cell_type": "markdown",
   "id": "7b467e8e",
   "metadata": {},
   "source": [
    "# 1. Modules and Functions"
   ]
  },
  {
   "cell_type": "code",
   "execution_count": 3,
   "id": "4b023cb0",
   "metadata": {},
   "outputs": [],
   "source": [
    "import numpy as np\n",
    "from sklearn.datasets import make_classification\n",
    "from sklearn.model_selection import train_test_split\n",
    "from sklearn.linear_model import LogisticRegression\n",
    "from sklearn.ensemble import RandomForestClassifier\n",
    "from xgboost import XGBClassifier\n",
    "from sklearn.metrics import classification_report\n",
    "import warnings\n",
    "warnings.filterwarnings('ignore')"
   ]
  },
  {
   "cell_type": "markdown",
   "id": "de4ad608",
   "metadata": {},
   "source": [
    "# 2. Main"
   ]
  },
  {
   "cell_type": "markdown",
   "id": "0fade2f9",
   "metadata": {},
   "source": [
    "## 2.1. Data preperation"
   ]
  },
  {
   "cell_type": "markdown",
   "id": "aca117df",
   "metadata": {},
   "source": [
    "Making an artificial dataset for Anomaly Detection (the reason why it is imbalanced)"
   ]
  },
  {
   "cell_type": "code",
   "execution_count": 4,
   "id": "28b41c66",
   "metadata": {},
   "outputs": [
    {
     "data": {
      "text/plain": [
       "(array([0, 1]), array([900, 100], dtype=int64))"
      ]
     },
     "execution_count": 4,
     "metadata": {},
     "output_type": "execute_result"
    }
   ],
   "source": [
    "X, y = make_classification(n_samples=1000, n_features=10, n_informative=2, n_redundant=8, \n",
    "                          weights=[0.9, 0.1], flip_y=0, random_state=RANDOM_STATE)\n",
    "\n",
    "np.unique(y, return_counts=True)"
   ]
  },
  {
   "cell_type": "code",
   "execution_count": 5,
   "id": "8c2d5564",
   "metadata": {},
   "outputs": [
    {
     "name": "stdout",
     "output_type": "stream",
     "text": [
      "Train size is: (700, 10) \n",
      "Test size is: (300, 10)\n"
     ]
    }
   ],
   "source": [
    "X_train, X_test, y_train, y_test = train_test_split(\n",
    "    X, y, \n",
    "    test_size = TEST_SIZE, \n",
    "    stratify = y, \n",
    "    random_state = RANDOM_STATE\n",
    ")\n",
    "\n",
    "print(\n",
    "    f'Train size is: {X_train.shape} \\nTest size is: {X_test.shape}'\n",
    ")"
   ]
  },
  {
   "cell_type": "markdown",
   "id": "651082bb",
   "metadata": {},
   "source": [
    "## You can ignore it, the very first try"
   ]
  },
  {
   "cell_type": "markdown",
   "id": "4744726d",
   "metadata": {},
   "source": [
    "params = {\n",
    "    \"solver\" : \"lbfgs\",\n",
    "    \"max_iter\" : 1000,\n",
    "    \"multi_class\" : \"auto\",\n",
    "    \"random_state\" : 8888\n",
    "}\n",
    "\n",
    "lr = LogisticRegression(**params)\n",
    "lr.fit(X_train, y_train)\n",
    "\n",
    "y_pred = lr.predict(X_test)\n",
    "\n",
    "report = classification_report(y_test, y_pred)\n",
    "print(report)"
   ]
  },
  {
   "cell_type": "markdown",
   "id": "129c5dd9",
   "metadata": {},
   "source": [
    "report_dict = classification_report(y_test, y_pred, output_dict=True)\n",
    "report_dict"
   ]
  },
  {
   "cell_type": "markdown",
   "id": "0ec72816",
   "metadata": {},
   "source": [
    "import mlflow"
   ]
  },
  {
   "cell_type": "markdown",
   "id": "ce65f28c",
   "metadata": {},
   "source": [
    "mlflow.set_experiment(\"First Experiment\")\n",
    "mlflow.set_tracking_uri(\"http://127.0.0.1:5000/\")\n",
    "\n",
    "with mlflow.start_run():\n",
    "    mlflow.log_params(params)\n",
    "    mlflow.log_metrics({\n",
    "        'accuracy': report_dict['accuracy'],\n",
    "        'report_class_0': report_dict['0']['recall'],\n",
    "        'report_class_1': report_dict['1']['recall'],\n",
    "        'f1_score_macro': report_dict['macro avg']['f1-score']\n",
    "    })\n",
    "    mlflow.sklearn.log_model(lr, \"Logistic Regression\")"
   ]
  },
  {
   "cell_type": "markdown",
   "id": "9dc9bf35",
   "metadata": {},
   "source": [
    "# 2.2 Model training  &  2.3 Model evaluation"
   ]
  },
  {
   "cell_type": "markdown",
   "id": "e79b8ffe",
   "metadata": {},
   "source": [
    "## Experiment 1: Train Logistic Regression Classifier (liblinear)"
   ]
  },
  {
   "cell_type": "code",
   "execution_count": 6,
   "id": "683989d6",
   "metadata": {},
   "outputs": [
    {
     "name": "stdout",
     "output_type": "stream",
     "text": [
      "              precision    recall  f1-score   support\n",
      "\n",
      "           0       0.95      0.96      0.95       270\n",
      "           1       0.60      0.50      0.55        30\n",
      "\n",
      "    accuracy                           0.92       300\n",
      "   macro avg       0.77      0.73      0.75       300\n",
      "weighted avg       0.91      0.92      0.91       300\n",
      "\n"
     ]
    }
   ],
   "source": [
    "log_reg = LogisticRegression(C=1, solver='liblinear')\n",
    "log_reg.fit(X_train, y_train)\n",
    "y_pred_log_reg = log_reg.predict(X_test)\n",
    "print(classification_report(y_test, y_pred_log_reg))"
   ]
  },
  {
   "cell_type": "markdown",
   "id": "00b375e2",
   "metadata": {},
   "source": [
    "## Experiment 2: Train Random Forest Classifier"
   ]
  },
  {
   "cell_type": "code",
   "execution_count": 7,
   "id": "881c9dfe",
   "metadata": {},
   "outputs": [
    {
     "name": "stdout",
     "output_type": "stream",
     "text": [
      "              precision    recall  f1-score   support\n",
      "\n",
      "           0       0.96      1.00      0.98       270\n",
      "           1       0.95      0.67      0.78        30\n",
      "\n",
      "    accuracy                           0.96       300\n",
      "   macro avg       0.96      0.83      0.88       300\n",
      "weighted avg       0.96      0.96      0.96       300\n",
      "\n"
     ]
    }
   ],
   "source": [
    "rf_clf = RandomForestClassifier(n_estimators=30, max_depth=3)\n",
    "rf_clf.fit(X_train, y_train)\n",
    "y_pred_rf = rf_clf.predict(X_test)\n",
    "print(classification_report(y_test, y_pred_rf))"
   ]
  },
  {
   "cell_type": "markdown",
   "id": "029920a4",
   "metadata": {},
   "source": [
    "## Experiment 3: Train XGBoost (logloss)"
   ]
  },
  {
   "cell_type": "code",
   "execution_count": 8,
   "id": "0aa020b9",
   "metadata": {},
   "outputs": [
    {
     "name": "stdout",
     "output_type": "stream",
     "text": [
      "              precision    recall  f1-score   support\n",
      "\n",
      "           0       0.98      1.00      0.99       270\n",
      "           1       0.96      0.80      0.87        30\n",
      "\n",
      "    accuracy                           0.98       300\n",
      "   macro avg       0.97      0.90      0.93       300\n",
      "weighted avg       0.98      0.98      0.98       300\n",
      "\n"
     ]
    }
   ],
   "source": [
    "xgb_clf = XGBClassifier(use_label_encoder=False, eval_metric='logloss')\n",
    "xgb_clf.fit(X_train, y_train)\n",
    "y_pred_xgb = xgb_clf.predict(X_test)\n",
    "print(classification_report(y_test, y_pred_xgb))"
   ]
  },
  {
   "cell_type": "markdown",
   "id": "04c72965",
   "metadata": {},
   "source": [
    "## Experiment 4: Handle class imbalance using SMOTETomek and then Train XGBoost"
   ]
  },
  {
   "cell_type": "code",
   "execution_count": 13,
   "id": "015ad66f",
   "metadata": {},
   "outputs": [
    {
     "name": "stdout",
     "output_type": "stream",
     "text": [
      "Requirement already satisfied: scikit-learn==1.2.2 in c:\\users\\rumay\\anaconda3\\lib\\site-packages (1.2.2)\n",
      "Collecting imbalanced-learn==0.10.1\n",
      "  Obtaining dependency information for imbalanced-learn==0.10.1 from https://files.pythonhosted.org/packages/11/80/911e581a4fc973179e3a48c1272435aa09cce21c12af122c3886d3d35cb5/imbalanced_learn-0.10.1-py3-none-any.whl.metadata\n",
      "  Downloading imbalanced_learn-0.10.1-py3-none-any.whl.metadata (8.2 kB)\n",
      "Requirement already satisfied: numpy>=1.17.3 in c:\\users\\rumay\\anaconda3\\lib\\site-packages (from scikit-learn==1.2.2) (1.26.4)\n",
      "Requirement already satisfied: scipy>=1.3.2 in c:\\users\\rumay\\anaconda3\\lib\\site-packages (from scikit-learn==1.2.2) (1.11.1)\n",
      "Requirement already satisfied: joblib>=1.1.1 in c:\\users\\rumay\\anaconda3\\lib\\site-packages (from scikit-learn==1.2.2) (1.2.0)\n",
      "Requirement already satisfied: threadpoolctl>=2.0.0 in c:\\users\\rumay\\anaconda3\\lib\\site-packages (from scikit-learn==1.2.2) (3.5.0)\n",
      "Downloading imbalanced_learn-0.10.1-py3-none-any.whl (226 kB)\n",
      "   ---------------------------------------- 0.0/226.0 kB ? eta -:--:--\n",
      "   - -------------------------------------- 10.2/226.0 kB ? eta -:--:--\n",
      "   --- ----------------------------------- 20.5/226.0 kB 330.3 kB/s eta 0:00:01\n",
      "   ------- ------------------------------- 41.0/226.0 kB 326.8 kB/s eta 0:00:01\n",
      "   -------------- ------------------------ 81.9/226.0 kB 459.5 kB/s eta 0:00:01\n",
      "   ------------------------- ------------ 153.6/226.0 kB 706.2 kB/s eta 0:00:01\n",
      "   -------------------------------------  225.3/226.0 kB 860.2 kB/s eta 0:00:01\n",
      "   -------------------------------------- 226.0/226.0 kB 811.1 kB/s eta 0:00:00\n",
      "Installing collected packages: imbalanced-learn\n",
      "  Attempting uninstall: imbalanced-learn\n",
      "    Found existing installation: imbalanced-learn 0.13.0\n",
      "    Uninstalling imbalanced-learn-0.13.0:\n",
      "      Successfully uninstalled imbalanced-learn-0.13.0\n",
      "Successfully installed imbalanced-learn-0.10.1\n",
      "Note: you may need to restart the kernel to use updated packages.\n"
     ]
    }
   ],
   "source": [
    "pip install scikit-learn==1.2.2 imbalanced-learn==0.10.1\n"
   ]
  },
  {
   "cell_type": "code",
   "execution_count": 14,
   "id": "b8ea55a7",
   "metadata": {},
   "outputs": [
    {
     "data": {
      "text/plain": [
       "(array([0, 1]), array([619, 619], dtype=int64))"
      ]
     },
     "execution_count": 14,
     "metadata": {},
     "output_type": "execute_result"
    }
   ],
   "source": [
    "from imblearn.combine import SMOTETomek\n",
    "\n",
    "smt = SMOTETomek(random_state=42)\n",
    "X_train_res, y_train_res = smt.fit_resample(X_train, y_train)\n",
    "\n",
    "np.unique(y_train_res, return_counts=True)"
   ]
  },
  {
   "cell_type": "code",
   "execution_count": 15,
   "id": "8b0468e6",
   "metadata": {},
   "outputs": [
    {
     "name": "stdout",
     "output_type": "stream",
     "text": [
      "              precision    recall  f1-score   support\n",
      "\n",
      "           0       0.98      0.99      0.98       270\n",
      "           1       0.86      0.83      0.85        30\n",
      "\n",
      "    accuracy                           0.97       300\n",
      "   macro avg       0.92      0.91      0.92       300\n",
      "weighted avg       0.97      0.97      0.97       300\n",
      "\n"
     ]
    }
   ],
   "source": [
    "xgb_clf = XGBClassifier(use_label_encoder=False, eval_metric='logloss')\n",
    "xgb_clf.fit(X_train_res, y_train_res)\n",
    "y_pred_xgb = xgb_clf.predict(X_test)\n",
    "print(classification_report(y_test, y_pred_xgb))"
   ]
  },
  {
   "cell_type": "markdown",
   "id": "4ec365b3",
   "metadata": {},
   "source": [
    "# 2.4 Track experiments using MLFlow"
   ]
  },
  {
   "cell_type": "code",
   "execution_count": 16,
   "id": "62172482",
   "metadata": {},
   "outputs": [],
   "source": [
    "models = [\n",
    "    (    \n",
    "        \"Logistic Regression\",\n",
    "        {\"C\": 1, \"solver\": 'liblinear'},\n",
    "        LogisticRegression(),\n",
    "        (X_train, y_train),\n",
    "        (X_test, y_test)\n",
    "    ),\n",
    "    (\n",
    "        \"Random Forest\",\n",
    "        {\"n_estimators\": 30, \"max_depth\": 3},\n",
    "        RandomForestClassifier(),\n",
    "        (X_train, y_train),\n",
    "        (X_test, y_test)\n",
    "    ),\n",
    "    (\n",
    "        \"XGBClassifier\",\n",
    "        {\"use_label_encoder\": False, \"eval_metric\": 'logloss'},\n",
    "        XGBClassifier(),\n",
    "        (X_train, y_train),\n",
    "        (X_test, y_test)\n",
    "    ),\n",
    "    (\n",
    "        \"XGBClassifier With SMOTE\",\n",
    "        {\"use_lavel_encoder\": False, \"eval_metric\": 'logloss'},\n",
    "        XGBClassifier(),\n",
    "        (X_train_res, y_train_res),\n",
    "        (X_test, y_test)\n",
    "    )\n",
    "]"
   ]
  },
  {
   "cell_type": "code",
   "execution_count": 17,
   "id": "7a52da3a",
   "metadata": {},
   "outputs": [
    {
     "name": "stdout",
     "output_type": "stream",
     "text": [
      "[16:38:35] WARNING: C:\\buildkite-agent\\builds\\buildkite-windows-cpu-autoscaling-group-i-0fdc6d574b9c0d168-1\\xgboost\\xgboost-ci-windows\\src\\learner.cc:767: \n",
      "Parameters: { \"use_lavel_encoder\" } are not used.\n",
      "\n"
     ]
    }
   ],
   "source": [
    "reports = []\n",
    "\n",
    "for model_name, params, model, train_set, test_set in models:\n",
    "    X_train = train_set[0]\n",
    "    y_train = train_set[1]\n",
    "    X_test = test_set[0]\n",
    "    y_test = test_set[1]\n",
    "    \n",
    "    model.set_params(**params)\n",
    "    model.fit(X_train, y_train)\n",
    "    y_pred = model.predict(X_test)\n",
    "    report = classification_report(y_test, y_pred, output_dict=True)\n",
    "    reports.append(report)"
   ]
  },
  {
   "cell_type": "code",
   "execution_count": 18,
   "id": "3c06ce25",
   "metadata": {},
   "outputs": [],
   "source": [
    "import mlflow"
   ]
  },
  {
   "cell_type": "code",
   "execution_count": 20,
   "id": "79586aee",
   "metadata": {},
   "outputs": [
    {
     "name": "stderr",
     "output_type": "stream",
     "text": [
      "2024/12/27 16:41:24 WARNING mlflow.models.model: Model logged without a signature and input example. Please set `input_example` parameter when logging the model to auto infer the model signature.\n"
     ]
    },
    {
     "name": "stdout",
     "output_type": "stream",
     "text": [
      "🏃 View run Logistic Regression at: http://localhost:5000/#/experiments/621642682576530848/runs/51fc949541cb409183c54896cbc5bd03\n",
      "🧪 View experiment at: http://localhost:5000/#/experiments/621642682576530848\n"
     ]
    },
    {
     "name": "stderr",
     "output_type": "stream",
     "text": [
      "2024/12/27 16:41:31 WARNING mlflow.models.model: Model logged without a signature and input example. Please set `input_example` parameter when logging the model to auto infer the model signature.\n"
     ]
    },
    {
     "name": "stdout",
     "output_type": "stream",
     "text": [
      "🏃 View run Random Forest at: http://localhost:5000/#/experiments/621642682576530848/runs/e0c706632f314dc8971407ec3c74b10f\n",
      "🧪 View experiment at: http://localhost:5000/#/experiments/621642682576530848\n"
     ]
    },
    {
     "name": "stderr",
     "output_type": "stream",
     "text": [
      "2024/12/27 16:41:39 WARNING mlflow.models.model: Model logged without a signature and input example. Please set `input_example` parameter when logging the model to auto infer the model signature.\n"
     ]
    },
    {
     "name": "stdout",
     "output_type": "stream",
     "text": [
      "🏃 View run XGBClassifier at: http://localhost:5000/#/experiments/621642682576530848/runs/e5357f0ade6f4c6ab480481a7c7bfac2\n",
      "🧪 View experiment at: http://localhost:5000/#/experiments/621642682576530848\n"
     ]
    },
    {
     "name": "stderr",
     "output_type": "stream",
     "text": [
      "2024/12/27 16:41:46 WARNING mlflow.models.model: Model logged without a signature and input example. Please set `input_example` parameter when logging the model to auto infer the model signature.\n"
     ]
    },
    {
     "name": "stdout",
     "output_type": "stream",
     "text": [
      "🏃 View run XGBClassifier With SMOTE at: http://localhost:5000/#/experiments/621642682576530848/runs/fa23a60938c14f57bb1905b0aef4a191\n",
      "🧪 View experiment at: http://localhost:5000/#/experiments/621642682576530848\n"
     ]
    }
   ],
   "source": [
    "mlflow.set_experiment(\"Anomaly Detection 1\")\n",
    "mlflow.set_tracking_uri(uri='http://localhost:5000/')\n",
    "\n",
    "for i, element in enumerate(models):\n",
    "    model_name = element[0]\n",
    "    model = element[2]\n",
    "    report = reports[i]\n",
    "    \n",
    "    with mlflow.start_run(run_name=model_name):\n",
    "        mlflow.log_params(params)\n",
    "        mlflow.log_metrics({\n",
    "            'accuracy': report['accuracy'],\n",
    "            'recall_class_1': report['1']['recall'],\n",
    "            'recall_class_0': report['0']['recall'],\n",
    "            'f1_score_macro': report['macro avg']['f1-score']\n",
    "        })\n",
    "        \n",
    "        if \"XGB\" in model_name:\n",
    "            mlflow.xgboost.log_model(model, \"model\")\n",
    "        else:\n",
    "            mlflow.sklearn.log_model(model, \"model\")"
   ]
  },
  {
   "cell_type": "markdown",
   "id": "277a4788",
   "metadata": {},
   "source": [
    "# Register the Model "
   ]
  },
  {
   "cell_type": "code",
   "execution_count": null,
   "id": "dbefa21b",
   "metadata": {},
   "outputs": [],
   "source": [
    "model_name = \"XGB-Smote\"\n",
    "run_id = input(\"Enter run ID: \")\n",
    "model_uri = f\"runs:/{run_id}/model\"\n",
    "\n",
    "results = mlflow.register_model(\n",
    "    model_uri, model_name\n",
    ")"
   ]
  },
  {
   "cell_type": "markdown",
   "id": "b7ff3edc",
   "metadata": {},
   "source": [
    "# Load the Model"
   ]
  },
  {
   "cell_type": "code",
   "execution_count": 24,
   "id": "d46d1d8d",
   "metadata": {},
   "outputs": [
    {
     "data": {
      "application/vnd.jupyter.widget-view+json": {
       "model_id": "7e694eb19719453d98e0d7577142aa17",
       "version_major": 2,
       "version_minor": 0
      },
      "text/plain": [
       "Downloading artifacts:   0%|          | 0/5 [00:00<?, ?it/s]"
      ]
     },
     "metadata": {},
     "output_type": "display_data"
    },
    {
     "data": {
      "text/plain": [
       "array([0, 0, 0, 0])"
      ]
     },
     "execution_count": 24,
     "metadata": {},
     "output_type": "execute_result"
    }
   ],
   "source": [
    "model_name = \"XGB-Smote\"\n",
    "model_version = 1\n",
    "model_uri = f\"models:/{model_name}/{model_version}\"\n",
    "\n",
    "loaded_model = mlflow.xgboost.load_model(model_uri)\n",
    "y_pred = loaded_model.predict(X_test)\n",
    "y_pred[:4]"
   ]
  },
  {
   "cell_type": "code",
   "execution_count": 27,
   "id": "1a3621ed",
   "metadata": {},
   "outputs": [
    {
     "name": "stderr",
     "output_type": "stream",
     "text": [
      "Successfully registered model 'anomaly-detection-prod'.\n",
      "Copied version '1' of model 'XGB-Smote' to version '1' of model 'anomaly-detection-prod'.\n"
     ]
    },
    {
     "data": {
      "text/plain": [
       "<ModelVersion: aliases=[], creation_timestamp=1735325278770, current_stage='None', description='', last_updated_timestamp=1735325278770, name='anomaly-detection-prod', run_id='e08fbfeffc9149a588acff5daa18d01f', run_link='', source='models:/XGB-Smote/1', status='READY', status_message='', tags={}, user_id='', version='1'>"
      ]
     },
     "execution_count": 27,
     "metadata": {},
     "output_type": "execute_result"
    }
   ],
   "source": [
    "dev_model_uri = f\"models:/{model_name}/{model_version}\"\n",
    "prod_model = 'anomaly-detection-prod'\n",
    "\n",
    "client = mlflow.MlflowClient()\n",
    "client.copy_model_version(src_model_uri=dev_model_uri, dst_name=prod_model)"
   ]
  },
  {
   "cell_type": "code",
   "execution_count": 28,
   "id": "66ba5e22",
   "metadata": {},
   "outputs": [
    {
     "data": {
      "application/vnd.jupyter.widget-view+json": {
       "model_id": "51e47fb2d2924515b89d9247ae55aae3",
       "version_major": 2,
       "version_minor": 0
      },
      "text/plain": [
       "Downloading artifacts:   0%|          | 0/5 [00:00<?, ?it/s]"
      ]
     },
     "metadata": {},
     "output_type": "display_data"
    },
    {
     "data": {
      "text/plain": [
       "array([0, 0, 0, 0])"
      ]
     },
     "execution_count": 28,
     "metadata": {},
     "output_type": "execute_result"
    }
   ],
   "source": [
    "model_uri = f\"models:/{prod_model}/{model_version}\"\n",
    "\n",
    "loaded_model = mlflow.xgboost.load_model(model_uri)\n",
    "y_pred = loaded_model.predict(X_test)\n",
    "y_pred[:4]"
   ]
  },
  {
   "cell_type": "code",
   "execution_count": null,
   "id": "e6e64eb2",
   "metadata": {},
   "outputs": [],
   "source": []
  }
 ],
 "metadata": {
  "kernelspec": {
   "display_name": "Python 3 (ipykernel)",
   "language": "python",
   "name": "python3"
  },
  "language_info": {
   "codemirror_mode": {
    "name": "ipython",
    "version": 3
   },
   "file_extension": ".py",
   "mimetype": "text/x-python",
   "name": "python",
   "nbconvert_exporter": "python",
   "pygments_lexer": "ipython3",
   "version": "3.11.5"
  }
 },
 "nbformat": 4,
 "nbformat_minor": 5
}
